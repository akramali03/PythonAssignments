{
  "nbformat": 4,
  "nbformat_minor": 0,
  "metadata": {
    "colab": {
      "provenance": []
    },
    "kernelspec": {
      "name": "python3",
      "display_name": "Python 3"
    },
    "language_info": {
      "name": "python"
    }
  },
  "cells": [
    {
      "cell_type": "markdown",
      "source": [
        "**Data Types:**\n",
        "Define a variable my_integer with the value 42. Create a variable my_float with the value 3.14. Declare a variable my_string with the value \"Hello, Python!\". Print the type of each variable.\n"
      ],
      "metadata": {
        "id": "LbwHf8ZBnaWx"
      }
    },
    {
      "cell_type": "code",
      "execution_count": null,
      "metadata": {
        "colab": {
          "base_uri": "https://localhost:8080/"
        },
        "id": "G3K5lvP5mNhj",
        "outputId": "d520c159-7fd0-4be3-8e22-14e6ba93907e"
      },
      "outputs": [
        {
          "output_type": "stream",
          "name": "stdout",
          "text": [
            "<class 'int'>\n",
            "<class 'float'>\n",
            "<class 'str'>\n"
          ]
        }
      ],
      "source": [
        "my_integer = 42\n",
        "my_float = 3.14\n",
        "my_string =  \"Hello, Python\"\n",
        "\n",
        "print(type(my_integer))\n",
        "print(type(my_float))\n",
        "print(type(my_string))"
      ]
    },
    {
      "cell_type": "markdown",
      "source": [
        "**Operators:**\n",
        "implement a program that calculates the area of a rectangle. Take the length and width as input from the user. Use the modulo operator to find the remainder when dividing 15 by 4"
      ],
      "metadata": {
        "id": "kigJR2Pnnp3I"
      }
    },
    {
      "cell_type": "code",
      "source": [
        "length = int(input(\"enter length\"))\n",
        "width = int(input(\"enter width\"))\n",
        "\n",
        "Area_of_rectangle = length*width\n",
        "print(Area_of_rectangle)"
      ],
      "metadata": {
        "colab": {
          "base_uri": "https://localhost:8080/"
        },
        "id": "2xV-P8QOm0wn",
        "outputId": "6adca978-271b-4ecd-e0f0-2fb5f9b15624"
      },
      "execution_count": null,
      "outputs": [
        {
          "output_type": "stream",
          "name": "stdout",
          "text": [
            "enter length8\n",
            "enter width10\n",
            "80\n"
          ]
        }
      ]
    },
    {
      "cell_type": "code",
      "source": [
        "X = 15\n",
        "Y = 4\n",
        "\n",
        "remainder = X % Y\n",
        "print(remainder)"
      ],
      "metadata": {
        "colab": {
          "base_uri": "https://localhost:8080/"
        },
        "id": "N933i96npm5l",
        "outputId": "2463d2b9-8b1b-4163-ef05-3e36a0ca4e06"
      },
      "execution_count": null,
      "outputs": [
        {
          "output_type": "stream",
          "name": "stdout",
          "text": [
            "3\n"
          ]
        }
      ]
    },
    {
      "cell_type": "markdown",
      "source": [
        "**Conditional Programming:**\n",
        "Write a program that checks if a number is positive, negative, or zero. Take the number as input from the user. Implement a program that determines if a given year is a leap year."
      ],
      "metadata": {
        "id": "RchayOm7rkKR"
      }
    },
    {
      "cell_type": "code",
      "source": [
        "enter_a_number = int(input(\"enter a number\"))\n",
        "\n",
        "n = enter_a_number\n",
        "\n",
        "if n < 0:\n",
        "  print(\"given number is negative\")\n",
        "elif n == 0:\n",
        "  print(\"given number is a zero\")\n",
        "else:\n",
        "  print(\"given number is positive\")"
      ],
      "metadata": {
        "colab": {
          "base_uri": "https://localhost:8080/"
        },
        "id": "wh0lRtwwqoLK",
        "outputId": "d454b199-532e-4aa2-fa90-d9403c51ba5f"
      },
      "execution_count": null,
      "outputs": [
        {
          "output_type": "stream",
          "name": "stdout",
          "text": [
            "enter a number-5\n",
            "given number is negative\n"
          ]
        }
      ]
    },
    {
      "cell_type": "code",
      "source": [
        "enter_a_year = int(input(\"enter a year\"))\n",
        "\n",
        "n = enter_a_year\n",
        "\n",
        "if n % 4 == 0:\n",
        "  print(\"given year is a leap year\")\n",
        "else:\n",
        "  print(\"given is not a leap year\")\n"
      ],
      "metadata": {
        "colab": {
          "base_uri": "https://localhost:8080/"
        },
        "id": "JUqOUvF1Ib2m",
        "outputId": "2172ea94-acfd-4dac-f910-25f51c23d977"
      },
      "execution_count": null,
      "outputs": [
        {
          "output_type": "stream",
          "name": "stdout",
          "text": [
            "enter a year2024\n",
            "given year is a leap year\n"
          ]
        }
      ]
    },
    {
      "cell_type": "markdown",
      "source": [
        "**Loops (While & For):**\n",
        "Use a while loop to print the square of numbers from 1 to 5. Use a for loop to print each character of the string \"Python\"."
      ],
      "metadata": {
        "id": "gABYfBACk9zi"
      }
    },
    {
      "cell_type": "code",
      "source": [
        "num = 1\n",
        "\n",
        "while num<=5:\n",
        "  square = num ** 2\n",
        "  print(f\"the square of {num} is {square}\")\n",
        "  num = num + 1"
      ],
      "metadata": {
        "colab": {
          "base_uri": "https://localhost:8080/"
        },
        "id": "AbTakOj_KEgY",
        "outputId": "b6e1c80d-2e7e-467d-8be1-1cffb0ef937a"
      },
      "execution_count": null,
      "outputs": [
        {
          "output_type": "stream",
          "name": "stdout",
          "text": [
            "the square of 1 is 1\n",
            "the square of 2 is 4\n",
            "the square of 3 is 9\n",
            "the square of 4 is 16\n",
            "the square of 5 is 25\n"
          ]
        }
      ]
    },
    {
      "cell_type": "code",
      "source": [
        "sample = \"python\"\n",
        "\n",
        "for val in sample:\n",
        "  print(val)"
      ],
      "metadata": {
        "colab": {
          "base_uri": "https://localhost:8080/"
        },
        "id": "4VePrqgeLVwe",
        "outputId": "b8fe0081-f035-422b-accb-6ec0d4bf949d"
      },
      "execution_count": null,
      "outputs": [
        {
          "output_type": "stream",
          "name": "stdout",
          "text": [
            "p\n",
            "y\n",
            "t\n",
            "h\n",
            "o\n",
            "n\n"
          ]
        }
      ]
    },
    {
      "cell_type": "markdown",
      "source": [
        "***args and kwargs:**\n",
        "Create a function add_numbers that takes any number of arguments and returns their sum. Define a function print_info that takes any number of keyword arguments and prints them."
      ],
      "metadata": {
        "id": "zUUVThmblEjw"
      }
    },
    {
      "cell_type": "code",
      "source": [
        "def add_numbers(*args):\n",
        "  sum = 0\n",
        "  for val in args:\n",
        "   sum = sum + val\n",
        "  print(sum)"
      ],
      "metadata": {
        "id": "13J6MCYoOYDP"
      },
      "execution_count": null,
      "outputs": []
    },
    {
      "cell_type": "code",
      "source": [
        "add_numbers(1,2,3,5,67)"
      ],
      "metadata": {
        "colab": {
          "base_uri": "https://localhost:8080/"
        },
        "id": "G0GJ6Pm2TFZO",
        "outputId": "ae00b319-c81d-4154-f29e-f9e20bbfd70b"
      },
      "execution_count": null,
      "outputs": [
        {
          "output_type": "stream",
          "name": "stdout",
          "text": [
            "78\n"
          ]
        }
      ]
    },
    {
      "cell_type": "code",
      "source": [
        "def print_info(**kwargs):\n",
        "  infor = {}\n",
        "  for key,val in kwargs.items():\n",
        "    infor[key] = val\n",
        "  print(infor)"
      ],
      "metadata": {
        "id": "ED84OTx4TUos"
      },
      "execution_count": null,
      "outputs": []
    },
    {
      "cell_type": "code",
      "source": [
        "print_info(name = \"akram\",age = 26,salary = 5000)"
      ],
      "metadata": {
        "colab": {
          "base_uri": "https://localhost:8080/"
        },
        "id": "6-8gzIFZThv7",
        "outputId": "be513ea4-ae32-48c3-ff38-dfe001f13567"
      },
      "execution_count": null,
      "outputs": [
        {
          "output_type": "stream",
          "name": "stdout",
          "text": [
            "{'name': 'akram', 'age': 26, 'salary': 5000}\n"
          ]
        }
      ]
    },
    {
      "cell_type": "markdown",
      "source": [
        "**Lambda Function:**\n",
        "Write a lambda function to calculate the square of a number. Create a list of numbers and use the lambda function with the map function to get a list of their squares."
      ],
      "metadata": {
        "id": "M811voN5ja2P"
      }
    },
    {
      "cell_type": "code",
      "source": [
        "square = lambda x : x**2\n",
        "square(9)"
      ],
      "metadata": {
        "colab": {
          "base_uri": "https://localhost:8080/"
        },
        "id": "mVlZFzelXrWZ",
        "outputId": "f0f7a834-c5c2-4802-c9a2-682f253ce55c"
      },
      "execution_count": null,
      "outputs": [
        {
          "output_type": "execute_result",
          "data": {
            "text/plain": [
              "81"
            ]
          },
          "metadata": {},
          "execution_count": 64
        }
      ]
    },
    {
      "cell_type": "code",
      "source": [
        "numbers = [3,5,2,6,1]\n",
        "\n",
        "list(map(lambda x : x**2, numbers))\n"
      ],
      "metadata": {
        "id": "1QKaHCt3gmwX",
        "colab": {
          "base_uri": "https://localhost:8080/"
        },
        "outputId": "3e165ecb-4fa5-422c-8706-69903575c03d"
      },
      "execution_count": null,
      "outputs": [
        {
          "output_type": "execute_result",
          "data": {
            "text/plain": [
              "[9, 25, 4, 36, 1]"
            ]
          },
          "metadata": {},
          "execution_count": 14
        }
      ]
    },
    {
      "cell_type": "markdown",
      "source": [
        "**Map:**\n",
        "Define a function double that takes a number as input and returns its double. Use the map function to double each element in a list of numbers."
      ],
      "metadata": {
        "id": "dnmL1Nth5AFC"
      }
    },
    {
      "cell_type": "code",
      "source": [
        "def double(num):\n",
        "  return num+num"
      ],
      "metadata": {
        "id": "vVQIDPqPgpaP"
      },
      "execution_count": null,
      "outputs": []
    },
    {
      "cell_type": "code",
      "source": [
        "double(25)"
      ],
      "metadata": {
        "colab": {
          "base_uri": "https://localhost:8080/"
        },
        "id": "BBoQ9qMA5L23",
        "outputId": "12ffda69-dc20-45c4-ca7a-13a4dc4f591b"
      },
      "execution_count": null,
      "outputs": [
        {
          "output_type": "execute_result",
          "data": {
            "text/plain": [
              "50"
            ]
          },
          "metadata": {},
          "execution_count": 26
        }
      ]
    },
    {
      "cell_type": "code",
      "source": [
        "number = [2,5,12,5,2,6,7,9]\n",
        "\n",
        "doubled_numbers = list(map(lambda x : x + x, number))\n",
        "print(doubled_numbers)"
      ],
      "metadata": {
        "colab": {
          "base_uri": "https://localhost:8080/"
        },
        "id": "dN7nivfP5bNr",
        "outputId": "8117a97a-7382-47c6-f78c-23bb38164e16"
      },
      "execution_count": null,
      "outputs": [
        {
          "output_type": "stream",
          "name": "stdout",
          "text": [
            "[4, 10, 24, 10, 4, 12, 14, 18]\n"
          ]
        }
      ]
    },
    {
      "cell_type": "code",
      "source": [
        "number = [2,5,12,5,2,6,7,9]\n",
        "\n",
        "def double(num):\n",
        "  return num+num\n",
        "\n",
        "doubled = list(map(double, number))\n",
        "print(doubled)"
      ],
      "metadata": {
        "colab": {
          "base_uri": "https://localhost:8080/"
        },
        "id": "mkbKGq9w_iV4",
        "outputId": "17838212-2a19-49e5-893e-3e28bb01642c"
      },
      "execution_count": null,
      "outputs": [
        {
          "output_type": "stream",
          "name": "stdout",
          "text": [
            "[4, 10, 24, 10, 4, 12, 14, 18]\n"
          ]
        }
      ]
    },
    {
      "cell_type": "markdown",
      "source": [
        "**Filter:**\n",
        "Create a list of numbers and use the filter function to get only the even numbers. Define a function is_prime to check if a number is prime. Use filter to get a list of prime numbers from another list"
      ],
      "metadata": {
        "id": "CuY5iG1SBUVE"
      }
    },
    {
      "cell_type": "code",
      "source": [
        "number = [2,5,12,5,2,6,7,9]\n",
        "\n",
        "def evens(num):\n",
        "  return num % 2 ==0\n",
        "\n",
        "even_numbers = list(filter(evens, number))\n",
        "print(even_numbers)"
      ],
      "metadata": {
        "colab": {
          "base_uri": "https://localhost:8080/"
        },
        "id": "mlZnnlm5A9Av",
        "outputId": "a05c078c-ddf0-4db9-873f-e3ddc6de780d"
      },
      "execution_count": null,
      "outputs": [
        {
          "output_type": "stream",
          "name": "stdout",
          "text": [
            "[2, 12, 2, 6]\n"
          ]
        }
      ]
    },
    {
      "cell_type": "code",
      "source": [
        "def is_prime(number):\n",
        "  if number<=1:\n",
        "    return False\n",
        "  elif number<=3:\n",
        "    return True\n",
        "  elif number % 2 == 0 or number % 3 == 0:\n",
        "    return False\n",
        "  else:\n",
        "    return True\n",
        "\n"
      ],
      "metadata": {
        "id": "DipQF35NB1yE"
      },
      "execution_count": null,
      "outputs": []
    },
    {
      "cell_type": "code",
      "source": [
        "is_prime(19)"
      ],
      "metadata": {
        "colab": {
          "base_uri": "https://localhost:8080/"
        },
        "id": "VDP6GZlsKThu",
        "outputId": "c2afd2e4-f6f9-47d0-d2c9-ca08c46256aa"
      },
      "execution_count": null,
      "outputs": [
        {
          "output_type": "execute_result",
          "data": {
            "text/plain": [
              "True"
            ]
          },
          "metadata": {},
          "execution_count": 57
        }
      ]
    },
    {
      "cell_type": "code",
      "source": [
        "numbers = [2,5,12,3,5,6,7,43,20,34]\n",
        "\n",
        "def is_prime(number):\n",
        "  if number<=1:\n",
        "    return False\n",
        "  elif number<=3:\n",
        "    return True\n",
        "  elif number % 2 == 0 or number % 3 == 0:\n",
        "    return False\n",
        "  else:\n",
        "    return True\n",
        "\n",
        "prime_numbers = list(filter(is_prime, numbers))\n",
        "print(prime_numbers)"
      ],
      "metadata": {
        "colab": {
          "base_uri": "https://localhost:8080/"
        },
        "id": "y4a-XhctLtrp",
        "outputId": "e2516aa4-5577-44cf-aa7e-87ca71dc3320"
      },
      "execution_count": null,
      "outputs": [
        {
          "output_type": "stream",
          "name": "stdout",
          "text": [
            "[2, 5, 3, 5, 7, 43]\n"
          ]
        }
      ]
    },
    {
      "cell_type": "markdown",
      "source": [
        "**All and Any:**\n",
        "Write a program using all to check if all elements in a list are integers. Implement a program using any to check if any string in a list is longer than 8 characters."
      ],
      "metadata": {
        "id": "oBqW7lHHOrcp"
      }
    },
    {
      "cell_type": "code",
      "source": [
        "my_list = [4, 43, 439, 8, 9]\n",
        "\n",
        "all(type(i) == int for i in my_list)"
      ],
      "metadata": {
        "colab": {
          "base_uri": "https://localhost:8080/"
        },
        "id": "xnfvPZ0ZNsNv",
        "outputId": "14a1a936-00dc-4158-e47b-351784e59333"
      },
      "execution_count": 6,
      "outputs": [
        {
          "output_type": "execute_result",
          "data": {
            "text/plain": [
              "True"
            ]
          },
          "metadata": {},
          "execution_count": 6
        }
      ]
    },
    {
      "cell_type": "code",
      "source": [
        "my_list = [\"apple\", \"banana\", \"careerxclub\", \"liveclasses\"]\n",
        "\n",
        "any(len(i) > 8 for i in my_list)\n"
      ],
      "metadata": {
        "id": "KhphcSbiPcnx",
        "colab": {
          "base_uri": "https://localhost:8080/"
        },
        "outputId": "231787f9-7d13-4245-f2f1-c475e489fa9a"
      },
      "execution_count": 7,
      "outputs": [
        {
          "output_type": "execute_result",
          "data": {
            "text/plain": [
              "True"
            ]
          },
          "metadata": {},
          "execution_count": 7
        }
      ]
    },
    {
      "cell_type": "code",
      "source": [],
      "metadata": {
        "id": "LdGTLEvTiyoZ"
      },
      "execution_count": null,
      "outputs": []
    }
  ]
}